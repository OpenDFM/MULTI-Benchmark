{
 "cells": [
  {
   "cell_type": "code",
   "execution_count": 2,
   "metadata": {},
   "outputs": [
    {
     "name": "stdout",
     "output_type": "stream",
     "text": [
      "env: CUDA_VISIBLE_DEVICES=4\n"
     ]
    },
    {
     "name": "stderr",
     "output_type": "stream",
     "text": [
      "/home/ubuntu/anaconda3/envs/mx/lib/python3.10/site-packages/tqdm/auto.py:21: TqdmWarning: IProgress not found. Please update jupyter and ipywidgets. See https://ipywidgets.readthedocs.io/en/stable/user_install.html\n",
      "  from .autonotebook import tqdm as notebook_tqdm\n"
     ]
    }
   ],
   "source": [
    "%env CUDA_VISIBLE_DEVICES=4\n",
    "\n",
    "import torch\n",
    "torch.backends.cudnn.enabled = False\n",
    "\n",
    "import easyocr\n",
    "reader = easyocr.Reader(['ch_sim','en'])"
   ]
  },
  {
   "cell_type": "code",
   "execution_count": 3,
   "metadata": {},
   "outputs": [],
   "source": [
    "from PIL import Image\n",
    "import numpy as np"
   ]
  },
  {
   "cell_type": "code",
   "execution_count": 9,
   "metadata": {},
   "outputs": [],
   "source": [
    "file = \"../data/images/czsx/56_1.png\"\n",
    "image = Image.open(file)\n",
    "image = image.resize((image.size[0] * 4, image.size[1] * 4))"
   ]
  },
  {
   "cell_type": "code",
   "execution_count": 10,
   "metadata": {},
   "outputs": [
    {
     "data": {
      "text/plain": [
       "[([[29, 9], [199, 9], [199, 71], [29, 71]], '步骤', 0.9183417905602503),\n",
       " ([[307, 0], [487, 0], [487, 67], [307, 67]], '步骤二', 0.19986209887318232),\n",
       " ([[583, 0], [761, 0], [761, 59], [583, 59]], '步g二', 0.24805211524072998)]"
      ]
     },
     "execution_count": 10,
     "metadata": {},
     "output_type": "execute_result"
    }
   ],
   "source": [
    "reader.readtext(np.array(image))"
   ]
  },
  {
   "cell_type": "code",
   "execution_count": 13,
   "metadata": {},
   "outputs": [],
   "source": [
    "def return_relative_text(filename):\n",
    "    image = Image.open(filename)\n",
    "    # image = image.resize((image.size[0] * 4, image.size[1] * 4))\n",
    "    textlist = reader.readtext(np.array(image))\n",
    "    text = \"、\".join(map(lambda x: x[1], textlist))\n",
    "    torch.cuda.empty_cache()\n",
    "    return text"
   ]
  },
  {
   "cell_type": "code",
   "execution_count": 15,
   "metadata": {},
   "outputs": [
    {
     "name": "stderr",
     "output_type": "stream",
     "text": [
      "  0%|          | 2/9626 [00:00<13:18, 12.05it/s]"
     ]
    },
    {
     "name": "stderr",
     "output_type": "stream",
     "text": [
      "100%|██████████| 9626/9626 [18:31<00:00,  8.66it/s]  \n"
     ]
    },
    {
     "data": {
      "text/plain": [
       "9626"
      ]
     },
     "execution_count": 15,
     "metadata": {},
     "output_type": "execute_result"
    }
   ],
   "source": [
    "import glob\n",
    "import tqdm\n",
    "\n",
    "result_dict = {}\n",
    "cnt = 0\n",
    "for file in tqdm.tqdm(glob.glob(\"images/*/*\")):\n",
    "    result_dict[file] = return_relative_text(file)\n",
    "\n",
    "len(result_dict)"
   ]
  },
  {
   "cell_type": "code",
   "execution_count": 16,
   "metadata": {},
   "outputs": [],
   "source": [
    "import csv\n",
    "\n",
    "with open(\"ocrresult_v1.2.0_20231217.csv\",\"w\") as csv_file:\n",
    "\twriter=csv.writer(csv_file)\n",
    "\tfor key,value in result_dict.items():\n",
    "\t\twriter.writerow([key,value])"
   ]
  },
  {
   "cell_type": "code",
   "execution_count": null,
   "metadata": {},
   "outputs": [],
   "source": [
    "import json\n",
    "json.dump"
   ]
  }
 ],
 "metadata": {
  "kernelspec": {
   "display_name": "mx",
   "language": "python",
   "name": "python3"
  },
  "language_info": {
   "codemirror_mode": {
    "name": "ipython",
    "version": 3
   },
   "file_extension": ".py",
   "mimetype": "text/x-python",
   "name": "python",
   "nbconvert_exporter": "python",
   "pygments_lexer": "ipython3",
   "version": "3.10.13"
  }
 },
 "nbformat": 4,
 "nbformat_minor": 2
}
