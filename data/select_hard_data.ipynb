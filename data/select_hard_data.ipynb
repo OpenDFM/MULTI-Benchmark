{
 "cells": [
  {
   "cell_type": "code",
   "execution_count": 1,
   "metadata": {
    "ExecuteTime": {
     "end_time": "2023-12-30T02:18:11.124999700Z",
     "start_time": "2023-12-30T02:18:10.486623Z"
    }
   },
   "outputs": [],
   "source": [
    "import json\n",
    "\n",
    "with open(\"../results/gpt-4-vision-preview_input_2_shot_0_20231221_101231/add_no_image/detail.json\", \"r\", encoding=\"utf-8\") as f:\n",
    "    raw_data = json.load(f)\n",
    "    \n",
    "with open(\"../data/problem_v1.2.0_20231217.json\",\"r\",encoding='utf-8') as f:\n",
    "    raw_raw_data = json.load(f)"
   ]
  },
  {
   "cell_type": "code",
   "execution_count": 2,
   "metadata": {
    "ExecuteTime": {
     "end_time": "2023-12-30T02:18:43.922836800Z",
     "start_time": "2023-12-30T02:18:43.917927300Z"
    }
   },
   "outputs": [],
   "source": [
    "#define the customed result files and parameters here...\n",
    "\n",
    "details_filelist = r\"\"\"   \n",
    "gpt-4-vision-preview_input_2_shot_0_20231221_101231/add_no_image  \n",
    "qwen-vl_input_2_shot_0_it_20231225_083611   \n",
    "gemini-pro-vision_input_2_shot_0_20231224_004723/add_no_image   \n",
    "moss_input_0_shot_0_20231226_070654  \n",
    "visualglm_input_2_shot_0_it_20231226_070315\n",
    "gemini-pro_input_0_shot_0_20231223_141324\n",
    "gpt-3.5-turbo-0613_input_0_shot_0_20231220_143731                \n",
    "viscpm_input_2_shot_0_it_bi_20231228_194002\n",
    "gpt-4-1106-preview_input_0_shot_0_20231220_214000\n",
    "\"\"\".split()\n",
    "# details_filelist\n",
    "\n",
    "details_weights = [63.7,38.9,53.7,32.6,31.1,52.2,40.1,33.4,50.2]\n",
    "assert len(details_filelist) == len(details_weights)"
   ]
  },
  {
   "cell_type": "code",
   "execution_count": 3,
   "metadata": {
    "ExecuteTime": {
     "end_time": "2023-12-30T02:18:49.785758700Z",
     "start_time": "2023-12-30T02:18:47.883884800Z"
    }
   },
   "outputs": [],
   "source": [
    "import os\n",
    "\n",
    "detailed_score_ensemble_list = []\n",
    "for filedir in details_filelist:\n",
    "    file = os.path.join(\"..\", \"results\", filedir, \"detail.json\")\n",
    "    with open(file, \"r\", encoding=\"utf-8\") as f:\n",
    "        data = json.load(f)\n",
    "        detailed_score_ensemble_list.append(data)\n",
    "\n",
    "\n",
    "def judge_score_for_a_problem(problem_key):\n",
    "    sumed = 0\n",
    "    for filedir, det, weight in zip(\n",
    "        details_filelist, detailed_score_ensemble_list, details_weights\n",
    "    ):\n",
    "        question_images = len(det.get(\"image_list\", []))\n",
    "        prob_det = det[problem_key]\n",
    "        if prob_det[\"total_score\"] == 0:\n",
    "            continue\n",
    "        if question_images and \"input_0\" in filedir:\n",
    "            continue\n",
    "        sumed += (1 - prob_det[\"score\"] / prob_det[\"total_score\"]) * weight\n",
    "    return sumed"
   ]
  },
  {
   "cell_type": "code",
   "execution_count": 4,
   "metadata": {
    "ExecuteTime": {
     "end_time": "2023-12-30T02:18:54.370077800Z",
     "start_time": "2023-12-30T02:18:54.204800200Z"
    }
   },
   "outputs": [
    {
     "name": "stdout",
     "output_type": "stream",
     "text": [
      "18330\n"
     ]
    },
    {
     "data": {
      "text/plain": "214"
     },
     "execution_count": 4,
     "metadata": {},
     "output_type": "execute_result"
    }
   ],
   "source": [
    "select_type_categories = \"yw sx yy zz ls dl wl hx sw dx jk xc\".split()\n",
    "\n",
    "classified_list = [\n",
    "    [[] for _ in range(len(select_type_categories))] for _ in range(3)\n",
    "]  # (0,1,m)\n",
    "\n",
    "multot = 0\n",
    "# First Iteration: Generate metadata of all the problems\n",
    "# metadata of each question: (transferred_id, type, model_score_criteria, comp result of diff & quality)\n",
    "for key, problem in raw_data.items():\n",
    "    source_key = key.rsplit('_',1)[0]\n",
    "    problem_o = raw_raw_data[source_key]\n",
    "    difficulty, quality = problem_o[\"difficulty\"], problem_o[\"quality\"]\n",
    "    \n",
    "    meta_triplet = (\n",
    "        key,\n",
    "        problem[\"type\"],\n",
    "        judge_score_for_a_problem(key),\n",
    "        difficulty * 1.5 + quality,\n",
    "    )\n",
    "    question_images = len(problem.get(\"image_list\", []))\n",
    "    \n",
    "    if question_images >= 2:\n",
    "        question_images = 3\n",
    "        multot += 1\n",
    "\n",
    "    sub = key.split(\"_\")[0]\n",
    "    subs = \"dx\" if sub[:2] == \"dx\" else sub[-2:]\n",
    "\n",
    "    classified_list[question_images ^ 1][select_type_categories.index(subs)].append(\n",
    "        meta_triplet\n",
    "    )  # [SinglePics, NonPics, MultiPics]\n",
    "\n",
    "print(len(raw_data))\n",
    "multot"
   ]
  },
  {
   "cell_type": "code",
   "execution_count": 34,
   "metadata": {
    "ExecuteTime": {
     "end_time": "2023-12-30T03:15:36.728788200Z",
     "start_time": "2023-12-30T03:15:36.669455100Z"
    }
   },
   "outputs": [
    {
     "data": {
      "text/plain": "1629"
     },
     "execution_count": 34,
     "metadata": {},
     "output_type": "execute_result"
    }
   ],
   "source": [
    "from typing import List, Tuple, Union\n",
    "import random\n",
    "\n",
    "type_list = [\"单选\", \"多选\", \"填空\", \"解答\", \"其他\"]\n",
    "from functools import cmp_to_key\n",
    "\n",
    "\n",
    "def absolute_cmp(x, y) -> int:\n",
    "    return (x > y) - (x < y)\n",
    "\n",
    "\n",
    "def sorting_criteria(\n",
    "    s0: Tuple[Union[str, int, float]], s1: Tuple[Union[str, int, float]]\n",
    "):\n",
    "    if s0[1] != s1[1]:\n",
    "        s0_index, s1_index = type_list.index(s0[1]), type_list.index(s1[1])\n",
    "        return absolute_cmp(-s0_index, -s1_index)\n",
    "    elif s0[2] != s1[2]:\n",
    "        return absolute_cmp(s0[2], s1[2])\n",
    "    else:\n",
    "        return absolute_cmp(s0[-1], s1[-1])\n",
    "\n",
    "\n",
    "import math\n",
    "\n",
    "selection_matrix = [ [50,15,50], [30,10,5], [10,5,10]]\n",
    "# selection_matrix = [\n",
    "#     [20, 22, 24],\n",
    "#     [20, 20, 24],\n",
    "#     [20, 20, 24],\n",
    "# ]  # number matrix. A precise selection will make the selection more accurate.\n",
    "# (SI, NI, MI) x (middle_school, univ, society)\n",
    "\n",
    "\n",
    "result_list = []\n",
    "\n",
    "for row_index, (selection_row, metadatas_list) in enumerate(\n",
    "    zip(selection_matrix, classified_list)\n",
    "):\n",
    "    for i, metadata_list in enumerate(metadatas_list):\n",
    "        random.shuffle(metadata_list)\n",
    "        metadata_list.sort(key=cmp_to_key(sorting_criteria), reverse=True)\n",
    "        sc_total, mc_total, bf_total = [\n",
    "            len(list(filter(lambda x: x[-3] == type_list[k], metadata_list)))\n",
    "            for k in range(3)\n",
    "        ]\n",
    "\n",
    "        # [:single_total]\n",
    "        neg_index = i - len(select_type_categories)\n",
    "        if neg_index < -3:  # middleschool\n",
    "            j = 0\n",
    "        elif neg_index == -3:  # university\n",
    "            j = 1\n",
    "        else:\n",
    "            j = 2\n",
    "        tot_needed_in_this_section = selection_matrix[row_index][j]*2\n",
    "        mc, bf = (\n",
    "            math.ceil(tot_needed_in_this_section / 4),\n",
    "            math.floor(tot_needed_in_this_section / 4),\n",
    "        )\n",
    "\n",
    "        # A better solution is splitting the list into 3 and perform sampling respectively.\n",
    "\n",
    "        result_list.extend(\n",
    "            metadata_list[sc_total : sc_total + min(mc, mc_total)]\n",
    "        )  # MuC\n",
    "        result_list.extend(\n",
    "            metadata_list[sc_total + mc_total : sc_total + mc_total + min(bf, bf_total)]\n",
    "        )  # BF\n",
    "        result_list.extend(\n",
    "            metadata_list[\n",
    "                : min(\n",
    "                    sc_total,\n",
    "                    tot_needed_in_this_section - min(mc, mc_total) - min(bf, bf_total),\n",
    "                )\n",
    "            ]\n",
    "        )  # SiC\n",
    "        #TODO: sample might be done here?\n",
    "        \n",
    "len(result_list)"
   ]
  },
  {
   "cell_type": "code",
   "execution_count": 35,
   "metadata": {
    "ExecuteTime": {
     "end_time": "2023-12-30T03:15:37.918122800Z",
     "start_time": "2023-12-30T03:15:37.901387800Z"
    }
   },
   "outputs": [],
   "source": [
    "random.shuffle(result_list)\n",
    "result_list=result_list[:500]\n",
    "\n",
    "with open(\"selected_hard_20231229.json\",\"w\",encoding='utf-8') as fw:\n",
    "    json.dump(result_list,fw,ensure_ascii=False,indent=4)"
   ]
  },
  {
   "cell_type": "code",
   "execution_count": 36,
   "metadata": {
    "ExecuteTime": {
     "end_time": "2023-12-30T03:15:38.609773800Z",
     "start_time": "2023-12-30T03:15:38.581626300Z"
    }
   },
   "outputs": [],
   "source": [
    "import json\n",
    "\n",
    "with open(\"../data/selected_hard_20231229.json\",\"r\",encoding='utf-8') as f:\n",
    "    result_list = json.load(f)"
   ]
  },
  {
   "cell_type": "code",
   "execution_count": 37,
   "metadata": {
    "ExecuteTime": {
     "end_time": "2023-12-30T03:15:38.876323700Z",
     "start_time": "2023-12-30T03:15:38.865376500Z"
    }
   },
   "outputs": [],
   "source": [
    "with open(\"../data/selected_hard_list_20231229.json\", \"w\", encoding=\"utf-8\") as fw:\n",
    "    json.dump(list(map(lambda x: x[0], result_list)), fw)"
   ]
  },
  {
   "cell_type": "code",
   "execution_count": 38,
   "metadata": {
    "ExecuteTime": {
     "end_time": "2023-12-30T03:15:39.407183Z",
     "start_time": "2023-12-30T03:15:39.255525900Z"
    }
   },
   "outputs": [
    {
     "name": "stdout",
     "output_type": "stream",
     "text": [
      "0\n"
     ]
    }
   ],
   "source": [
    "# Analysis on the correctness\n",
    "import os\n",
    "\n",
    "keys = map(lambda x: x[0], result_list)\n",
    "# keys = result_list\n",
    "\n",
    "input_file = (\n",
    "    \"../results/gpt-4-vision-preview_input_2_shot_0_20231221_101231/add_no_image/prediction.json\"\n",
    ")\n",
    "with open(input_file, \"r\", encoding=\"utf-8\") as f:\n",
    "    preds = json.load(f)\n",
    "\n",
    "hard_performance = {}\n",
    "cnt = 0\n",
    "for key in keys:\n",
    "    if key in preds:\n",
    "        hard_performance.update({key: preds[key]})\n",
    "    else:\n",
    "        # print(f\"{key} missig in the preds\")\n",
    "        cnt += 1\n",
    "        \n",
    "print(cnt)\n",
    "\n",
    "output_dir = f\"../results/selected_analysis/{'/'.join(input_file.split('/')[2:-1])}\"\n",
    "os.makedirs(output_dir, exist_ok=True)\n",
    "output_file = os.path.join(output_dir, input_file.split(\"/\")[-1])\n",
    "with open(output_file, \"w\", encoding=\"utf-8\") as fw:\n",
    "    json.dump(hard_performance, fw, ensure_ascii=False, indent=4)"
   ]
  },
  {
   "cell_type": "code",
   "execution_count": null,
   "outputs": [],
   "source": [],
   "metadata": {
    "collapsed": false
   }
  }
 ],
 "metadata": {
  "kernelspec": {
   "display_name": "vllm",
   "language": "python",
   "name": "python3"
  },
  "language_info": {
   "codemirror_mode": {
    "name": "ipython",
    "version": 3
   },
   "file_extension": ".py",
   "mimetype": "text/x-python",
   "name": "python",
   "nbconvert_exporter": "python",
   "pygments_lexer": "ipython3",
   "version": "3.9.17"
  }
 },
 "nbformat": 4,
 "nbformat_minor": 2
}
