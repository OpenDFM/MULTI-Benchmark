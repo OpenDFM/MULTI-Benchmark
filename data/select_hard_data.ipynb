{
 "cells": [
  {
   "cell_type": "code",
   "execution_count": 1,
   "metadata": {},
   "outputs": [],
   "source": [
    "import json\n",
    "\n",
    "with open(\"../data/problem_v1.1.0_20231207.json\", \"r\", encoding=\"utf-8\") as f:\n",
    "    raw_data = json.load(f)"
   ]
  },
  {
   "cell_type": "code",
   "execution_count": null,
   "metadata": {},
   "outputs": [],
   "source": [
    "#define the customed result files and parameters here...\n",
    "\n",
    "details_filelist = [\"\"]\n",
    "details_weights = [1]\n",
    "assert len(details_filelist) == len(details_weights)"
   ]
  },
  {
   "cell_type": "code",
   "execution_count": null,
   "metadata": {},
   "outputs": [],
   "source": [
    "detailed_score_ensemble_list = []\n",
    "for file in details_filelist:\n",
    "    with open(file,\"r\",encoding='utf-8') as f:\n",
    "        data = json.load(f)\n",
    "        detailed_score_ensemble_list.append(data)\n",
    "    \n",
    "def judge_score_for_a_problem(problem_key):\n",
    "    sumed = 0\n",
    "    for det, weight in zip(detailed_score_ensemble_list, details_weights):\n",
    "        prob_det = det[problem_key]\n",
    "        sumed += 1-prob_det[\"score\"]/prob_det[\"total_score\"]*weight\n",
    "    return sumed"
   ]
  },
  {
   "cell_type": "code",
   "execution_count": 8,
   "metadata": {},
   "outputs": [
    {
     "name": "stdout",
     "output_type": "stream",
     "text": [
      "17234\n"
     ]
    }
   ],
   "source": [
    "select_type_categories = \"yw sx yy zz ls dl wl hx sw dx jk xc\".split()\n",
    "\n",
    "classified_list = [\n",
    "    [[] for _ in range(len(select_type_categories))] for _ in range(3)\n",
    "]  # (0,1,m)\n",
    "\n",
    "# First Iteration: Generate metadata of all the problems\n",
    "# metadata of each question: (transferred_id, type, model_score_criteria, comp result of diff & quality)\n",
    "for key, problem in raw_data.items():\n",
    "    difficulty, quality = problem[\"difficulty\"], problem[\"quality\"]\n",
    "    for i, typ in enumerate(problem[\"problem_type_list\"]):\n",
    "        meta_triplet = (\n",
    "            f\"{key}_{i}\",\n",
    "            typ,\n",
    "            judge_score_for_a_problem(f\"{key}_{i}\"),\n",
    "            difficulty * 10 + quality,\n",
    "        )\n",
    "        question_images = len(problem.get(\"img_paths\", []))\n",
    "        if question_images > 2:\n",
    "            question_images = 2\n",
    "\n",
    "        sub = key.split(\"_\")[0]\n",
    "        subs = \"dx\" if sub[:2] == \"dx\" else sub[-2:]\n",
    "\n",
    "        classified_list[question_images ^ 1][select_type_categories.index(subs)].append(\n",
    "            meta_triplet\n",
    "        )  # [SinglePics, NonPics, MultiPics]\n",
    "\n",
    "print(len(raw_data))"
   ]
  },
  {
   "cell_type": "code",
   "execution_count": 5,
   "metadata": {},
   "outputs": [
    {
     "data": {
      "text/plain": [
       "622"
      ]
     },
     "execution_count": 5,
     "metadata": {},
     "output_type": "execute_result"
    }
   ],
   "source": [
    "# Multiple images list\n",
    "\n",
    "multiple_image_list = classified_list[-1]\n",
    "len(multiple_image_list)"
   ]
  },
  {
   "cell_type": "code",
   "execution_count": 32,
   "metadata": {},
   "outputs": [
    {
     "data": {
      "text/plain": [
       "604"
      ]
     },
     "execution_count": 32,
     "metadata": {},
     "output_type": "execute_result"
    }
   ],
   "source": [
    "from typing import List, Tuple, Union\n",
    "import random\n",
    "\n",
    "type_list = [\"单选\", \"多选\", \"填空\"]\n",
    "\n",
    "\n",
    "def sorting_criteria(x: Tuple[Union[int, str]]) -> int:\n",
    "    try:\n",
    "        return (\n",
    "            (4 - type_list.index(x[-3])) * 10000 + x[-2] * 100 + x[-1]\n",
    "        )  # (Single > Multi > FillB >> others)\n",
    "    except:\n",
    "        return -1\n",
    "\n",
    "\n",
    "import math\n",
    "\n",
    "# selection_matrix = [[20, 22, 24], [10, 10, 12], [10, 10, 14]]\n",
    "selection_matrix = [[20, 22, 24], [20, 20, 24], [20, 20, 24]] # number matrix. A precise selection will make the selection more accurate.\n",
    "\n",
    "\n",
    "result_list = []\n",
    "\n",
    "for row_index, (selection_row, metadatas_list) in enumerate(zip(selection_matrix, classified_list)):\n",
    "    for i, metadata_list in enumerate(metadatas_list):\n",
    "        random.shuffle(metadata_list)\n",
    "        metadata_list.sort(key=sorting_criteria, reverse=True)\n",
    "        sc_total, mc_total, bf_total = [\n",
    "            len(list(filter(lambda x: x[-3] == type_list[k], metadata_list)))\n",
    "            for k in range(3)\n",
    "        ]\n",
    "\n",
    "        # [:single_total]\n",
    "        neg_index = i - len(select_type_categories)\n",
    "        if neg_index < -3:  # middleschool\n",
    "            j = 0\n",
    "        elif neg_index == -3:  # university\n",
    "            j = 1\n",
    "        else:\n",
    "            j = 2\n",
    "        tot_needed_in_this_section = selection_matrix[row_index][j]\n",
    "        mc, bf = (\n",
    "            math.ceil(tot_needed_in_this_section / 4),\n",
    "            math.floor(tot_needed_in_this_section / 4),\n",
    "        )\n",
    "\n",
    "        # A better solution is splitting the list into 3 and perform sampling respectively.\n",
    "\n",
    "        result_list.extend(\n",
    "            metadata_list[sc_total : sc_total + min(mc, mc_total)]\n",
    "        )  # MuC\n",
    "        result_list.extend(\n",
    "            metadata_list[sc_total + mc_total : sc_total + mc_total + min(bf, bf_total)]\n",
    "        )  # BF\n",
    "        result_list.extend(\n",
    "            metadata_list[\n",
    "                : min(\n",
    "                    sc_total,\n",
    "                    tot_needed_in_this_section - min(mc, mc_total) - min(bf, bf_total),\n",
    "                )\n",
    "            ]\n",
    "        )  #SiC\n",
    "\n",
    "len(result_list)"
   ]
  },
  {
   "cell_type": "code",
   "execution_count": 35,
   "metadata": {},
   "outputs": [],
   "source": [
    "random.shuffle(result_list)\n",
    "result_list=result_list[:500]\n",
    "\n",
    "with open(\"selected_hard_20231212.json\",\"w\",encoding='utf-8') as fw:\n",
    "    json.dump(result_list,fw,ensure_ascii=False,indent=4)"
   ]
  },
  {
   "cell_type": "code",
   "execution_count": 3,
   "metadata": {},
   "outputs": [],
   "source": [
    "import json\n",
    "\n",
    "with open(\"../data/selected_hard_20231212.json\",\"r\",encoding='utf-8') as f:\n",
    "    result_list = json.load(f)"
   ]
  },
  {
   "cell_type": "code",
   "execution_count": 7,
   "metadata": {},
   "outputs": [],
   "source": [
    "with open(\"../data/selected_hard_list_20231212.json\", \"w\", encoding=\"utf-8\") as fw:\n",
    "    json.dump(list(map(lambda x: x[0], result_list)), fw)"
   ]
  },
  {
   "cell_type": "code",
   "execution_count": 4,
   "metadata": {},
   "outputs": [
    {
     "name": "stdout",
     "output_type": "stream",
     "text": [
      "0\n"
     ]
    }
   ],
   "source": [
    "# Analysis on the correctness\n",
    "import os\n",
    "\n",
    "keys = map(lambda x: x[0], result_list)\n",
    "# keys = result_list\n",
    "\n",
    "input_file = (\n",
    "    \"../results/moss_input_0_shot_0_20231208_080359/prediction.json\"\n",
    ")\n",
    "with open(input_file, \"r\", encoding=\"utf-8\") as f:\n",
    "    preds = json.load(f)\n",
    "\n",
    "hard_performance = {}\n",
    "cnt = 0\n",
    "for key in keys:\n",
    "    if key in preds:\n",
    "        hard_performance.update({key: preds[key]})\n",
    "    else:\n",
    "        # print(f\"{key} missig in the preds\")\n",
    "        cnt += 1\n",
    "        \n",
    "print(cnt)\n",
    "\n",
    "output_dir = f\"../results/selected_analysis/{input_file.split('/')[-2]}\"\n",
    "os.makedirs(output_dir, exist_ok=True)\n",
    "output_file = os.path.join(output_dir, input_file.split(\"/\")[-1])\n",
    "with open(output_file, \"w\", encoding=\"utf-8\") as fw:\n",
    "    json.dump(hard_performance, fw, ensure_ascii=False, indent=4)"
   ]
  }
 ],
 "metadata": {
  "kernelspec": {
   "display_name": "vllm",
   "language": "python",
   "name": "python3"
  },
  "language_info": {
   "codemirror_mode": {
    "name": "ipython",
    "version": 3
   },
   "file_extension": ".py",
   "mimetype": "text/x-python",
   "name": "python",
   "nbconvert_exporter": "python",
   "pygments_lexer": "ipython3",
   "version": "3.9.17"
  }
 },
 "nbformat": 4,
 "nbformat_minor": 2
}
